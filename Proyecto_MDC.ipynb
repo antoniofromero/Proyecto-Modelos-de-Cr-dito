{
  "nbformat": 4,
  "nbformat_minor": 0,
  "metadata": {
    "colab": {
      "name": "Proyecto MDC.ipynb",
      "version": "0.3.2",
      "provenance": [],
      "collapsed_sections": []
    },
    "kernelspec": {
      "name": "python3",
      "display_name": "Python 3"
    }
  },
  "cells": [
    {
      "cell_type": "markdown",
      "metadata": {
        "id": "-3k5mou7QEKs",
        "colab_type": "text"
      },
      "source": [
        "#Modelos de Crédito\n",
        "\n",
        "## Proyecto Final\n",
        "##  Dataset: The Winton Stock Market Challenge\n",
        "### Juan Antonio Flores Romero\n",
        "\n",
        "\n",
        "\n",
        "![texto alternativo](https://upload.wikimedia.org/wikipedia/commons/thumb/e/ea/Logo-ITESO-Principal-60V.png/250px-Logo-ITESO-Principal-60V.png)\n",
        "\n",
        "\n",
        "\n"
      ]
    },
    {
      "cell_type": "markdown",
      "metadata": {
        "id": "bABmFHWWfJ9f",
        "colab_type": "text"
      },
      "source": [
        "## Librerías"
      ]
    },
    {
      "cell_type": "code",
      "metadata": {
        "id": "pHUcA34rOcgy",
        "colab_type": "code",
        "colab": {}
      },
      "source": [
        "%matplotlib inline\n",
        "\n",
        "import pandas as pd\n",
        "import numpy as np\n",
        "import matplotlib.pyplot as plt\n",
        "import scipy.optimize"
      ],
      "execution_count": 0,
      "outputs": []
    },
    {
      "cell_type": "markdown",
      "metadata": {
        "id": "3KYzsxE0JlB4",
        "colab_type": "text"
      },
      "source": [
        "#Perceptrón"
      ]
    },
    {
      "cell_type": "code",
      "metadata": {
        "id": "h732uylNJj2j",
        "colab_type": "code",
        "colab": {}
      },
      "source": [
        "dataset1 = pd.read_csv('https://raw.githubusercontent.com/antoniofromero/Proyecto-Modelos-de-Cr-dito/master/creditrisk.csv')\n",
        "dataset = pd.DataFrame(columns = ['Balance','Rating','Student']) \n",
        "dataset['Balance'] = dataset1['Balance']\n",
        "dataset['Rating'] = dataset1['Rating']\n",
        "dataset['Student'] = dataset1['Student']\n"
      ],
      "execution_count": 0,
      "outputs": []
    },
    {
      "cell_type": "code",
      "metadata": {
        "id": "ovOQDo3ShswE",
        "colab_type": "code",
        "outputId": "347368f0-f9ae-40c2-9415-98974740d8b1",
        "colab": {
          "base_uri": "https://localhost:8080/",
          "height": 512
        }
      },
      "source": [
        "fig = plt.figure(figsize=(8,8))\n",
        "ax = fig.add_subplot(111)\n",
        "ax = dataset[dataset.Student == 'No'].plot.scatter('Balance', 'Rating', c='blue', ax=ax)\n",
        "dataset[dataset.Student == 'Yes'].plot.scatter('Balance', 'Rating', c='red', ax=ax)\n",
        "ax.legend(['No', 'Yes'])\n",
        "ax.set_title('Income and balance of students.');"
      ],
      "execution_count": 0,
      "outputs": [
        {
          "output_type": "display_data",
          "data": {
            "image/png": "[encoded data removed]",
            "text/plain": [
              "<Figure size 576x576 with 1 Axes>"
            ]
          },
          "metadata": {
            "tags": []
          }
        }
      ]
    },
    {
      "cell_type": "code",
      "metadata": {
        "id": "nKostSd9hsZM",
        "colab_type": "code",
        "colab": {}
      },
      "source": [
        "dataset['x0'] = 1"
      ],
      "execution_count": 0,
      "outputs": []
    },
    {
      "cell_type": "code",
      "metadata": {
        "id": "6w9Lum8ahsWD",
        "colab_type": "code",
        "colab": {}
      },
      "source": [
        "columns_in_order = list(dataset.columns)\n",
        "columns_in_order.remove('x0')\n",
        "columns_in_order.insert(0, 'x0')\n"
      ],
      "execution_count": 0,
      "outputs": []
    },
    {
      "cell_type": "code",
      "metadata": {
        "id": "2im2w-EnMmTn",
        "colab_type": "code",
        "colab": {}
      },
      "source": [
        "dataset = dataset[columns_in_order]"
      ],
      "execution_count": 0,
      "outputs": []
    },
    {
      "cell_type": "code",
      "metadata": {
        "id": "i6HpMKpKMmPn",
        "colab_type": "code",
        "colab": {}
      },
      "source": [
        "random_values = np.random.rand(len(dataset))\n",
        "train_sample = dataset[random_values < 0.7]\n",
        "test_sample = dataset[random_values >= 0.7]"
      ],
      "execution_count": 0,
      "outputs": []
    },
    {
      "cell_type": "code",
      "metadata": {
        "id": "O1Z3jBplSEF3",
        "colab_type": "code",
        "colab": {}
      },
      "source": [
        "def model(row, w):\n",
        "    return 'No' if row.values[:-1].dot(w) > 0 else 'Yes'"
      ],
      "execution_count": 0,
      "outputs": []
    },
    {
      "cell_type": "code",
      "metadata": {
        "id": "OtpPJjRVSD7Y",
        "colab_type": "code",
        "colab": {}
      },
      "source": [
        "def guess(df, w):\n",
        "    return df.apply(lambda row: model(row,w), axis = 1)"
      ],
      "execution_count": 0,
      "outputs": []
    },
    {
      "cell_type": "code",
      "metadata": {
        "id": "Cbf1sMmASDuD",
        "colab_type": "code",
        "colab": {}
      },
      "source": [
        "def find_missclasified(df, guess):\n",
        "    missclasified = df[df.Student != guess]\n",
        "    return len(missclasified), None if len(missclasified) == 0 else missclasified.iloc[0] "
      ],
      "execution_count": 0,
      "outputs": []
    },
    {
      "cell_type": "code",
      "metadata": {
        "id": "Dp1ClRG6S0m_",
        "colab_type": "code",
        "outputId": "a57dbd7e-e969-4732-d654-11bba38b2aa9",
        "colab": {
          "base_uri": "https://localhost:8080/",
          "height": 100
        }
      },
      "source": [
        "find_missclasified(train_sample, guess(train_sample, np.random.rand(3)))"
      ],
      "execution_count": 0,
      "outputs": [
        {
          "output_type": "execute_result",
          "data": {
            "text/plain": [
              "(31, x0           1\n",
              " Balance    903\n",
              " Rating     483\n",
              " Student    Yes\n",
              " Name: 1, dtype: object)"
            ]
          },
          "metadata": {
            "tags": []
          },
          "execution_count": 11
        }
      ]
    },
    {
      "cell_type": "code",
      "metadata": {
        "id": "L_klWAHZS0jO",
        "colab_type": "code",
        "colab": {}
      },
      "source": [
        "def train(df, max_iterations):\n",
        "    w = np.random.rand(len(df.columns) - 1)\n",
        "    iterations = 0\n",
        "    while iterations < max_iterations:\n",
        "        g = guess(df, w)\n",
        "        n, miss = find_missclasified(df, g)\n",
        "        if miss is None:\n",
        "            break\n",
        "        update = (1 if miss.Student == 'No' else -1) * \\\n",
        "           miss.values[:-1].astype(float)\n",
        "        w += update\n",
        "        iterations += 1\n",
        "    return w"
      ],
      "execution_count": 0,
      "outputs": []
    },
    {
      "cell_type": "code",
      "metadata": {
        "id": "yxu8W6OIS0er",
        "colab_type": "code",
        "colab": {}
      },
      "source": [
        "def pocket(df_train, df_test, max_iterations):\n",
        "    ein = []\n",
        "    eout = []\n",
        "    ws = []\n",
        "    w = np.random.rand(len(df_train.columns) - 1)\n",
        "    iterations = 0\n",
        "    while iterations < max_iterations:\n",
        "        ws.append(w)\n",
        "        gin = guess(df_train, w)\n",
        "        gout = guess(df_test, w)\n",
        "        n_in, miss_in = find_missclasified(df_train, gin)\n",
        "        n_out, miss_out = find_missclasified(df_test, gout)\n",
        "        ein.append(n_in/len(df_train))\n",
        "        eout.append(n_out/len(df_test))\n",
        "        if miss_in is None:\n",
        "            break\n",
        "        update = (1 if miss_in.Student == 'No' else -1) * \\\n",
        "           miss_in.values[:-1].astype(float)\n",
        "        w += update\n",
        "        iterations += 1\n",
        "    return ws, ein, eout"
      ],
      "execution_count": 0,
      "outputs": []
    },
    {
      "cell_type": "code",
      "metadata": {
        "id": "tWuX4RnKS0bE",
        "colab_type": "code",
        "colab": {}
      },
      "source": [
        "ws, ein, eout = pocket(train_sample, test_sample, 250)"
      ],
      "execution_count": 0,
      "outputs": []
    },
    {
      "cell_type": "code",
      "metadata": {
        "id": "eRsHSLy_TQKl",
        "colab_type": "code",
        "outputId": "bd806758-27f4-477e-a016-7745b3b6e819",
        "colab": {
          "base_uri": "https://localhost:8080/",
          "height": 285
        }
      },
      "source": [
        "errors = pd.DataFrame({'ws': ws, 'ein': ein, 'eout':eout})\n",
        "errors[['ein', 'eout']].plot()"
      ],
      "execution_count": 0,
      "outputs": [
        {
          "output_type": "execute_result",
          "data": {
            "text/plain": [
              "<matplotlib.axes._subplots.AxesSubplot at 0x7f3f9475ef28>"
            ]
          },
          "metadata": {
            "tags": []
          },
          "execution_count": 27
        },
        {
          "output_type": "display_data",
          "data": {
            "image/png": "[encoded data removed]",
            "text/plain": [
              "<Figure size 432x288 with 1 Axes>"
            ]
          },
          "metadata": {
            "tags": []
          }
        }
      ]
    },
    {
      "cell_type": "code",
      "metadata": {
        "id": "NJ9922jmTQG1",
        "colab_type": "code",
        "colab": {}
      },
      "source": [
        "w = errors.sort_values(by='ein').iloc[0].ws"
      ],
      "execution_count": 0,
      "outputs": []
    },
    {
      "cell_type": "code",
      "metadata": {
        "id": "Z2JHKLOgiyzi",
        "colab_type": "code",
        "outputId": "ae8e0a28-a72a-4d93-a9f3-f3b28d5c745b",
        "colab": {
          "base_uri": "https://localhost:8080/",
          "height": 528
        }
      },
      "source": [
        "fig = plt.figure(figsize=(8,8))\n",
        "ax = fig.add_subplot(111)\n",
        "ax = dataset[dataset.Student == 'No'].plot.scatter('Balance', 'Rating', c='blue', ax=ax)\n",
        "dataset[dataset.Student == 'Yes'].plot.scatter('Balance', 'Rating', c='red', ax=ax)\n",
        "ax.legend(['No', 'Yes'])\n",
        "ax.set_title('Income and balance of students.');\n",
        "\n",
        "ax.plot([0, 2000], [w[0]/w[2] + w[2]/w[1]*-50, w[0]/w[2] + w[2]/w[1]*-275])"
      ],
      "execution_count": 0,
      "outputs": [
        {
          "output_type": "execute_result",
          "data": {
            "text/plain": [
              "[<matplotlib.lines.Line2D at 0x7f97af511c50>]"
            ]
          },
          "metadata": {
            "tags": []
          },
          "execution_count": 22
        },
        {
          "output_type": "display_data",
          "data": {
            "image/png": "[encoded data removed]",
            "text/plain": [
              "<Figure size 576x576 with 1 Axes>"
            ]
          },
          "metadata": {
            "tags": []
          }
        }
      ]
    },
    {
      "cell_type": "markdown",
      "metadata": {
        "id": "ulXYAmQnzecj",
        "colab_type": "text"
      },
      "source": [
        "# Non Linear Regression"
      ]
    },
    {
      "cell_type": "code",
      "metadata": {
        "id": "7pk94qYUzoRB",
        "colab_type": "code",
        "outputId": "bc078b67-ba9c-4e1e-895e-dd64518cfe06",
        "colab": {
          "base_uri": "https://localhost:8080/",
          "height": 33
        }
      },
      "source": [
        "y = dataset['Student'].apply(lambda x: 1 if x == 'No' else -1)\n",
        "y.head()\n",
        "\n",
        "dataset['one'] = 1\n",
        "X = dataset[['one', 'Balance', 'Rating']]\n",
        "X.head()\n",
        "\n",
        "w = np.linalg.pinv(X).dot(y)\n",
        "w\n",
        "\n",
        "h = lambda x: np.sign(w.dot(x))\n",
        "yhat = X.apply(h, axis = 1)\n",
        "yhat.head()\n",
        "\n",
        "\n",
        "Pin = (yhat == y).sum()/len(y)\n",
        "Pin"
      ],
      "execution_count": 0,
      "outputs": [
        {
          "output_type": "execute_result",
          "data": {
            "text/plain": [
              "0.925"
            ]
          },
          "metadata": {
            "tags": []
          },
          "execution_count": 28
        }
      ]
    },
    {
      "cell_type": "code",
      "metadata": {
        "id": "JaBXx2ko2g-y",
        "colab_type": "code",
        "outputId": "2f33cabd-c908-4f0b-94e7-857ad563cb0e",
        "colab": {
          "base_uri": "https://localhost:8080/",
          "height": 33
        }
      },
      "source": [
        "dataset2 = dataset.copy()\n",
        "dataset2['Balance2'] = dataset2['Balance']**2\n",
        "dataset2['Rating2'] = dataset2['Rating']**2\n",
        "dataset2['balancerating'] = dataset2['Rating']*dataset2['Balance']\n",
        "\n",
        "dataset2.head()\n",
        "\n",
        "X = dataset2[['one', 'Balance', 'Rating', 'Balance2', 'Rating2', 'balancerating']]\n",
        "X.head()\n",
        "\n",
        "w = np.linalg.pinv(X).dot(y)\n",
        "w\n",
        "\n",
        "h = lambda x: np.sign(w.dot(x))\n",
        "yhat = X.apply(h, axis = 1)\n",
        "yhat.head()\n",
        "\n",
        "Pin2 = (yhat == y).sum()/len(y)\n",
        "Pin2"
      ],
      "execution_count": 0,
      "outputs": [
        {
          "output_type": "execute_result",
          "data": {
            "text/plain": [
              "0.9425"
            ]
          },
          "metadata": {
            "tags": []
          },
          "execution_count": 29
        }
      ]
    },
    {
      "cell_type": "code",
      "metadata": {
        "id": "Y-fAvnma2g7V",
        "colab_type": "code",
        "colab": {}
      },
      "source": [
        "Balances, Ratings = np.meshgrid(np.array(range(0,20000))/10, np.array(range(0,20000))/10)\n",
        "\n",
        "boundary = np.zeros(Balances.shape)\n",
        "\n",
        "for i in range(Balances.shape[0]):\n",
        "  for j in range(Balances.shape[1]):\n",
        "    boundary[i,j] = np.abs( w.dot(np.array([1, Balances[i, j], Ratings[i, j], Balances[i,j]**2, Ratings[i,j]**2, Balances[i,j]*Ratings[i,j]])) )< 0.01"
      ],
      "execution_count": 0,
      "outputs": []
    },
    {
      "cell_type": "code",
      "metadata": {
        "id": "SsqtciPWzoH5",
        "colab_type": "code",
        "outputId": "07b54b78-eb35-495d-ac5a-08a4e5c2aceb",
        "colab": {
          "base_uri": "https://localhost:8080/",
          "height": 517
        }
      },
      "source": [
        "import matplotlib.pyplot as plt\n",
        "\n",
        "fig = plt.figure(figsize=(8,8))\n",
        "ax = fig.add_subplot(111)\n",
        "im = ax.pcolormesh(Balances, Ratings, boundary)\n",
        "fig.colorbar(im, ax=ax)\n",
        "\n",
        "dataset[dataset.Student == 'No'].plot.scatter('Balance', 'Rating', c='blue', ax=ax)\n",
        "dataset[dataset.Student == 'Yes'].plot.scatter('Balance', 'Rating', c='red', ax=ax)"
      ],
      "execution_count": 0,
      "outputs": [
        {
          "output_type": "execute_result",
          "data": {
            "text/plain": [
              "<matplotlib.axes._subplots.AxesSubplot at 0x7f3f946acf98>"
            ]
          },
          "metadata": {
            "tags": []
          },
          "execution_count": 31
        },
        {
          "output_type": "display_data",
          "data": {
            "image/png": "[encoded data removed]",
            "text/plain": [
              "<Figure size 576x576 with 2 Axes>"
            ]
          },
          "metadata": {
            "tags": []
          }
        }
      ]
    },
    {
      "cell_type": "markdown",
      "metadata": {
        "id": "YywiHhwTEgiV",
        "colab_type": "text"
      },
      "source": [
        "### Nota: al querer gráficar y ser muchos los datos, no me alcanzó la memoria RAM, por eso no se pudo apreciar la linea curva dentro del plot"
      ]
    },
    {
      "cell_type": "markdown",
      "metadata": {
        "id": "_dOmWIUgfN2H",
        "colab_type": "text"
      },
      "source": [
        "# Árboles de Desición"
      ]
    },
    {
      "cell_type": "code",
      "metadata": {
        "id": "Dx6NEFAaOZQT",
        "colab_type": "code",
        "colab": {}
      },
      "source": [
        "Stock_Market_Challenge = pd.read_csv('https://raw.githubusercontent.com/antoniofromero/Proyecto-Modelos-de-Cr-dito/master/creditrisk.csv').dropna()\n",
        "hitters = Stock_Market_Challenge\n",
        "hitters['LogSalary'] = np.log(hitters.Income)\n",
        "hitters = hitters[['Income', 'Rating', 'LogSalary']]\n"
      ],
      "execution_count": 0,
      "outputs": []
    },
    {
      "cell_type": "code",
      "metadata": {
        "id": "VlMxgnyQdF50",
        "colab_type": "code",
        "outputId": "56b82ddf-7d5d-4000-c514-e5b1b07c1fd1",
        "colab": {
          "base_uri": "https://localhost:8080/",
          "height": 33
        }
      },
      "source": [
        "# Un árbol esta definido por la siguiente estructura\n",
        "# {'left': None, 'right': None, 'df': df, 'rss': 0}\n",
        "\n",
        "def _residual_squared_sum(df, y):\n",
        "    \"\"\"\n",
        "    Calculate the residual squared sum in R, using the target y.\n",
        "    \"\"\"\n",
        "    yhat = df[y].mean()\n",
        "    rss = ((df[y] - yhat)**2).sum()\n",
        "\n",
        "    return rss, yhat\n",
        "\n",
        "_residual_squared_sum(hitters, 'LogSalary')"
      ],
      "execution_count": 0,
      "outputs": [
        {
          "output_type": "execute_result",
          "data": {
            "text/plain": [
              "(190.76473019910682, 3.5632399615156256)"
            ]
          },
          "metadata": {
            "tags": []
          },
          "execution_count": 19
        }
      ]
    },
    {
      "cell_type": "code",
      "metadata": {
        "id": "laXXe13wf-Y5",
        "colab_type": "code",
        "outputId": "58b6cee7-0519-435e-8fb7-4706bf2a9a53",
        "colab": {
          "base_uri": "https://localhost:8080/",
          "height": 2133
        }
      },
      "source": [
        "def _binary_splitting(df, y, x_j):\n",
        "    \"\"\"\n",
        "    Find the best split using the predictor x_j. \n",
        "    \"\"\"\n",
        "    \n",
        "    xj_values = sorted(hitters[x_j].unique())\n",
        "    min_rss, _ = _residual_squared_sum(hitters, y)\n",
        "    for i in range(len(xj_values) - 1):\n",
        "      s = (xj_values[i] + xj_values[i+1]) / 2\n",
        "      df_left = df[df[x_j] < s]\n",
        "      df_right = df[df[x_j] >= s]\n",
        "      rss_left, _ = _residual_squared_sum(df_left, y)\n",
        "      rss_right, _ = _residual_squared_sum(df_right, y)\n",
        "      rss_total = rss_left + rss_right\n",
        "\n",
        "      if rss_total < min_rss:\n",
        "        min_rss = rss_total\n",
        "        df_left_min = df_left\n",
        "        df_right_min = df_right\n",
        "        min_s = s\n",
        "\n",
        "    split = {\n",
        "        'rss': min_rss,\n",
        "        's': min_s,\n",
        "        'left': df_left_min,\n",
        "        'right': df_right_min\n",
        "    }\n",
        "    \n",
        "    return split\n",
        "\n",
        "_binary_splitting(hitters, 'LogSalary', 'Income')"
      ],
      "execution_count": 0,
      "outputs": [
        {
          "output_type": "execute_result",
          "data": {
            "text/plain": [
              "{'left':      Income  Rating  LogSalary\n",
              " 0    14.891     283   2.700757\n",
              " 6    20.996     259   3.044332\n",
              " 8    15.125     266   2.716349\n",
              " 11   15.045     138   2.711046\n",
              " 14   19.144     269   2.951989\n",
              " 15   20.089     200   3.000172\n",
              " 17   36.496     339   3.597203\n",
              " 20   17.700     235   2.873565\n",
              " 21   37.348     458   3.620279\n",
              " 22   20.103     213   3.000869\n",
              " 24   10.742     156   2.374161\n",
              " 25   14.090     326   2.645465\n",
              " 27   32.793     333   3.490215\n",
              " 29   26.813     411   3.288887\n",
              " 30   34.142     413   3.530528\n",
              " 31   28.941     210   3.365259\n",
              " 33   31.367     162   3.445756\n",
              " 34   20.150     199   3.003204\n",
              " 35   23.350     220   3.150597\n",
              " 37   30.007     462   3.401431\n",
              " 38   11.795     300   2.467676\n",
              " 39   13.647     264   2.613520\n",
              " 40   34.950     253   3.553918\n",
              " 43   36.929     445   3.608997\n",
              " 44   31.861     469   3.461383\n",
              " 46   19.531     376   2.972003\n",
              " 50   36.362     376   3.593524\n",
              " 53   16.304     413   2.791410\n",
              " 54   15.333     138   2.730007\n",
              " 55   32.916     154   3.493959\n",
              " ..      ...     ...        ...\n",
              " 343  10.735     280   2.373509\n",
              " 345  30.012     137   3.401597\n",
              " 346  21.551     420   3.070422\n",
              " 348  13.433     112   2.597714\n",
              " 350  30.002     155   3.401264\n",
              " 354  12.068     292   2.490557\n",
              " 356  34.480     442   3.540379\n",
              " 358  30.111     339   3.404891\n",
              " 359  12.335     344   2.512441\n",
              " 362  26.162     382   3.264308\n",
              " 367  23.793     263   3.169391\n",
              " 370  35.610     466   3.572626\n",
              " 372  19.782     293   2.984772\n",
              " 374  29.400     368   3.380995\n",
              " 375  20.974     413   3.043284\n",
              " 377  28.144     142   3.337334\n",
              " 378  19.349     366   2.962641\n",
              " 382  24.824     409   3.211811\n",
              " 383  14.292     282   2.659700\n",
              " 384  20.088     180   3.000123\n",
              " 385  26.400     398   3.273364\n",
              " 386  19.253     287   2.957667\n",
              " 387  16.529     126   2.805116\n",
              " 388  37.878     482   3.634370\n",
              " 392  25.974     196   3.257096\n",
              " 393  17.316     138   2.851631\n",
              " 395  12.096     307   2.492875\n",
              " 396  13.364     296   2.592565\n",
              " 398  37.728     192   3.630403\n",
              " 399  18.701     415   2.928577\n",
              " \n",
              " [231 rows x 3 columns], 'right':       Income  Rating  LogSalary\n",
              " 1    106.025     483   4.663675\n",
              " 2    104.593     514   4.650077\n",
              " 3    148.924     681   5.003436\n",
              " 4     55.882     357   4.023242\n",
              " 5     80.180     569   4.384274\n",
              " 7     71.408     512   4.268410\n",
              " 9     71.061     491   4.263539\n",
              " 10    63.095     589   4.144642\n",
              " 12    80.616     394   4.389697\n",
              " 13    43.682     511   3.776936\n",
              " 16    53.598     286   3.981512\n",
              " 18    49.570     448   3.903386\n",
              " 19    42.079     479   3.739549\n",
              " 23    64.027     398   4.159305\n",
              " 26    42.471     289   3.748821\n",
              " 28   186.634     949   5.229149\n",
              " 32   134.181     563   4.899190\n",
              " 36    62.413     455   4.133774\n",
              " 41   113.659     538   4.733203\n",
              " 42    44.158     351   3.787774\n",
              " 45    77.380     564   4.348728\n",
              " 47    44.646     320   3.798765\n",
              " 48    44.522     205   3.795983\n",
              " 49    43.479     354   3.772278\n",
              " 51    39.705     301   3.681477\n",
              " 52    44.205     394   3.788838\n",
              " 56    57.100     372   4.044804\n",
              " 57    76.273     367   4.334319\n",
              " 59    51.872     390   3.948779\n",
              " 66   113.829     694   4.734697\n",
              " ..       ...     ...        ...\n",
              " 332   62.328     377   4.132411\n",
              " 338   41.365     377   3.722435\n",
              " 339  149.316     707   5.006065\n",
              " 344   48.218     401   3.875732\n",
              " 347  160.231     754   5.076617\n",
              " 349   48.577     389   3.883150\n",
              " 351   61.620     374   4.120986\n",
              " 352  104.483     507   4.649024\n",
              " 353   41.868     342   3.734522\n",
              " 355  180.682     832   5.196739\n",
              " 357   39.609     188   3.679056\n",
              " 360   53.566     434   3.980915\n",
              " 361   53.217     362   3.974378\n",
              " 363   64.173     433   4.161583\n",
              " 364  128.669     685   4.857243\n",
              " 365  113.772     489   4.734196\n",
              " 366   61.069     564   4.112004\n",
              " 368   89.000     440   4.488636\n",
              " 369   71.682     599   4.272240\n",
              " 371   39.116     173   3.666532\n",
              " 373   55.412     383   4.014796\n",
              " 376   87.625     515   4.473066\n",
              " 379   53.308     214   3.976086\n",
              " 380  115.123     538   4.746001\n",
              " 381  101.788     574   4.622892\n",
              " 389   83.948     503   4.430198\n",
              " 390  135.118     747   4.906148\n",
              " 391   73.327     472   4.294929\n",
              " 394   49.794     410   3.907894\n",
              " 397   57.872     321   4.058234\n",
              " \n",
              " [169 rows x 3 columns], 'rss': 60.674240539295894, 's': 38.4815}"
            ]
          },
          "metadata": {
            "tags": []
          },
          "execution_count": 20
        }
      ]
    },
    {
      "cell_type": "code",
      "metadata": {
        "id": "qur_1GV4f-W5",
        "colab_type": "code",
        "outputId": "00b30e07-c1ae-42d8-953a-2b8a91e632e3",
        "colab": {
          "base_uri": "https://localhost:8080/",
          "height": 33
        }
      },
      "source": [
        "def _recursive_binary_splitting(df, y, predictors):\n",
        "    \"\"\"\n",
        "    Select the best variable to reduce the\n",
        "    residual square sum from predictors.\n",
        "    \"\"\"\n",
        "    best_split = _binary_splitting(df, y, predictors[0])\n",
        "    best_split['x_j'] = predictors[0]\n",
        "    min_rss = best_split['rss']\n",
        "    for x_j in predictors[1:]:\n",
        "      split = _binary_splitting(df, y, x_j)\n",
        "      if split['rss'] < min_rss:\n",
        "        min_rss = split['rss']\n",
        "        best_split = split\n",
        "        best_split['x_j'] = x_j\n",
        "      \n",
        "    return best_split\n",
        "\n",
        "_recursive_binary_splitting(hitters, 'LogSalary', ['Income', 'Rating']).keys()"
      ],
      "execution_count": 0,
      "outputs": [
        {
          "output_type": "execute_result",
          "data": {
            "text/plain": [
              "dict_keys(['rss', 's', 'left', 'right', 'x_j'])"
            ]
          },
          "metadata": {
            "tags": []
          },
          "execution_count": 21
        }
      ]
    },
    {
      "cell_type": "code",
      "metadata": {
        "id": "nSpsTYmhf-T_",
        "colab_type": "code",
        "colab": {}
      },
      "source": [
        "def _make_tree(df, y):\n",
        "    rss, yhat = _residual_squared_sum(df, y)\n",
        "    return {'left': None, 'right':None, \n",
        "            'rss': rss,\n",
        "            'yhat': yhat,\n",
        "            'df': df,\n",
        "            'y': y}\n",
        "\n",
        "def _grow_tree(tree, predictors, min_points_per_leaf=5):\n",
        "    \"\"\"\n",
        "    Recursively divide tree using the split that\n",
        "    minimize rss. It stops when the region have\n",
        "    less than 5 elements.\n",
        "    \"\"\"\n",
        "    df = tree['df']\n",
        "    if len(df) <= min_points_per_leaf:\n",
        "      return\n",
        "    else:\n",
        "      split = _recursive_binary_splitting(df, tree['y'], predictors)\n",
        "      tree['x_j'] = split['x_j']\n",
        "      tree['s'] = split['s']\n",
        "      tree_left = _make_tree(split['left'], tree['y'])\n",
        "      tree_right = _make_tree(split['right'], tree['y'])\n",
        "      _grow_tree(tree_left, predictors)\n",
        "      _grow_tree(tree_right, predictors)\n",
        "      tree['left'] = tree_left\n",
        "      tree['right'] = tree_right\n",
        "\n",
        "hitters_tree = _make_tree(hitters, 'LogSalary')\n",
        "_grow_tree(hitters_tree, ['Income', 'Rating'], min_points_per_leaf=100)"
      ],
      "execution_count": 0,
      "outputs": []
    },
    {
      "cell_type": "code",
      "metadata": {
        "id": "tDYPeUdghB5q",
        "colab_type": "code",
        "outputId": "5d16de86-f66f-4589-f691-41c2a7c852ba",
        "colab": {
          "base_uri": "https://localhost:8080/",
          "height": 197
        }
      },
      "source": [
        "def _is_leaf(tree):\n",
        "  return tree['left'] is None and tree['right'] is None\n",
        "\n",
        "def _evaluate(tree, event):\n",
        "  if _is_leaf(tree):\n",
        "    return tree['df']\n",
        "    #return tree['df'][tree['y']].mean()\n",
        "  else:\n",
        "    if event[tree['x_j']] < tree['s']:\n",
        "      return _evaluate(tree['left'], event)\n",
        "    else:\n",
        "      return _evaluate(tree['right'], event)\n",
        "\n",
        "_evaluate(hitters_tree, hitters[['Income', 'Rating']].iloc[128])"
      ],
      "execution_count": 0,
      "outputs": [
        {
          "output_type": "execute_result",
          "data": {
            "text/html": [
              "<div>\n",
              "<style scoped>\n",
              "    .dataframe tbody tr th:only-of-type {\n",
              "        vertical-align: middle;\n",
              "    }\n",
              "\n",
              "    .dataframe tbody tr th {\n",
              "        vertical-align: top;\n",
              "    }\n",
              "\n",
              "    .dataframe thead th {\n",
              "        text-align: right;\n",
              "    }\n",
              "</style>\n",
              "<table border=\"1\" class=\"dataframe\">\n",
              "  <thead>\n",
              "    <tr style=\"text-align: right;\">\n",
              "      <th></th>\n",
              "      <th>Income</th>\n",
              "      <th>Rating</th>\n",
              "      <th>LogSalary</th>\n",
              "    </tr>\n",
              "  </thead>\n",
              "  <tbody>\n",
              "    <tr>\n",
              "      <th>128</th>\n",
              "      <td>123.299</td>\n",
              "      <td>610</td>\n",
              "      <td>4.814612</td>\n",
              "    </tr>\n",
              "    <tr>\n",
              "      <th>174</th>\n",
              "      <td>121.834</td>\n",
              "      <td>750</td>\n",
              "      <td>4.802659</td>\n",
              "    </tr>\n",
              "    <tr>\n",
              "      <th>191</th>\n",
              "      <td>124.290</td>\n",
              "      <td>701</td>\n",
              "      <td>4.822618</td>\n",
              "    </tr>\n",
              "    <tr>\n",
              "      <th>224</th>\n",
              "      <td>121.709</td>\n",
              "      <td>584</td>\n",
              "      <td>4.801633</td>\n",
              "    </tr>\n",
              "    <tr>\n",
              "      <th>326</th>\n",
              "      <td>125.480</td>\n",
              "      <td>721</td>\n",
              "      <td>4.832146</td>\n",
              "    </tr>\n",
              "  </tbody>\n",
              "</table>\n",
              "</div>"
            ],
            "text/plain": [
              "      Income  Rating  LogSalary\n",
              "128  123.299     610   4.814612\n",
              "174  121.834     750   4.802659\n",
              "191  124.290     701   4.822618\n",
              "224  121.709     584   4.801633\n",
              "326  125.480     721   4.832146"
            ]
          },
          "metadata": {
            "tags": []
          },
          "execution_count": 23
        }
      ]
    },
    {
      "cell_type": "code",
      "metadata": {
        "id": "5zjxeXSXhBwS",
        "colab_type": "code",
        "outputId": "0ec06139-5ef6-412d-97cd-3fd0d5a5c75a",
        "colab": {
          "base_uri": "https://localhost:8080/",
          "height": 33
        }
      },
      "source": [
        "def _is_leaf(tree):\n",
        "  return tree['left'] is None and tree['right'] is None\n",
        "\n",
        "\n",
        "def _tree_rss(tree):\n",
        "    \"\"\"\n",
        "    Calculate the total rss of a tree: the sum of the rss of\n",
        "    all leaves.\n",
        "    \"\"\"\n",
        "    rss = 0\n",
        "    \n",
        "    if _is_leaf(tree):\n",
        "      return tree['rss']\n",
        "    else:\n",
        "      if tree['left']:\n",
        "        rss += _tree_rss(tree['left'])\n",
        "      if tree['right']:\n",
        "        rss += _tree_rss(tree['right'])\n",
        "        \n",
        "    return rss\n",
        "_tree_rss(hitters_tree)"
      ],
      "execution_count": 0,
      "outputs": [
        {
          "output_type": "execute_result",
          "data": {
            "text/plain": [
              "0.015608010172732414"
            ]
          },
          "metadata": {
            "tags": []
          },
          "execution_count": 24
        }
      ]
    },
    {
      "cell_type": "code",
      "metadata": {
        "id": "l-kMUyMMhBl2",
        "colab_type": "code",
        "outputId": "01dd5198-9c44-4ea7-9c33-2dbfc2e1809a",
        "colab": {
          "base_uri": "https://localhost:8080/",
          "height": 33
        }
      },
      "source": [
        "def _count_leafs(tree):\n",
        "    \"\"\"\n",
        "    Return the number of leaves in the tree.\n",
        "    \"\"\"\n",
        "    num_leafs = 0\n",
        "    if _is_leaf(tree):\n",
        "      return 1\n",
        "    else:\n",
        "      if tree['left']:\n",
        "        num_leafs += _count_leafs(tree['left'])\n",
        "      if tree['right']:\n",
        "        num_leafs += _count_leafs(tree['right'])\n",
        "    \n",
        "    return num_leafs\n",
        "\n",
        "_count_leafs(hitters_tree)"
      ],
      "execution_count": 0,
      "outputs": [
        {
          "output_type": "execute_result",
          "data": {
            "text/plain": [
              "116"
            ]
          },
          "metadata": {
            "tags": []
          },
          "execution_count": 25
        }
      ]
    },
    {
      "cell_type": "code",
      "metadata": {
        "id": "CAcr-6J4hR0T",
        "colab_type": "code",
        "outputId": "8a5c1c2e-c6aa-427a-93b3-2ca829cb4cb6",
        "colab": {
          "base_uri": "https://localhost:8080/",
          "height": 33
        }
      },
      "source": [
        "def _cost_complexity(tree, alpha = 1):\n",
        "  return _tree_rss(tree) + alpha*_count_leafs(tree)\n",
        "\n",
        "_cost_complexity(hitters_tree)"
      ],
      "execution_count": 0,
      "outputs": [
        {
          "output_type": "execute_result",
          "data": {
            "text/plain": [
              "116.01560801017273"
            ]
          },
          "metadata": {
            "tags": []
          },
          "execution_count": 26
        }
      ]
    },
    {
      "cell_type": "code",
      "metadata": {
        "id": "fyHdoH3ghRon",
        "colab_type": "code",
        "outputId": "7bdb273c-2cc0-4f1a-ed7f-1885e90d093f",
        "colab": {
          "base_uri": "https://localhost:8080/",
          "height": 400
        }
      },
      "source": [
        "def _is_last_branch(tree):\n",
        "    \"\"\"\n",
        "    Return if a given tree is the last branch, i.e. both \n",
        "    subtrees are leaves.\n",
        "    \"\"\"\n",
        "    return _is_leaf(tree['left']) and _is_leaf(tree['right'])\n",
        "\n",
        "def _find_min_deltarss(tree):\n",
        "    \"\"\"\n",
        "    Find the tree that reduces for which the split reduces\n",
        "    the least the rss.\n",
        "    \"\"\"    \n",
        "    if _is_last_branch(tree):\n",
        "      deltarss = tree['rss'] - tree['left']['rss'] - tree['right']['rss']\n",
        "      return deltarss, tree\n",
        "    else:\n",
        "      if _is_leaf(tree['left']):\n",
        "        return _find_min_deltarss(tree['right'])\n",
        "      elif _is_leaf(tree['right']):\n",
        "        return _find_min_deltarss(tree['left'])\n",
        "      else:\n",
        "        min_deltarss_left, min_tree_left = _find_min_deltarss(tree['left'])\n",
        "        min_deltarss_right, min_tree_right = _find_min_deltarss(tree['right'])\n",
        "        if min_deltarss_left < min_deltarss_right:\n",
        "          return min_deltarss_left, min_tree_left\n",
        "        else:\n",
        "          return min_deltarss_right, min_tree_right\n",
        "\n",
        "_find_min_deltarss(hitters_tree)"
      ],
      "execution_count": 0,
      "outputs": [
        {
          "output_type": "execute_result",
          "data": {
            "text/plain": [
              "(1.8331264599192347e-05, {'df':      Income  Rating  LogSalary\n",
              "  6    20.996     259   3.044332\n",
              "  77   20.936     253   3.041470\n",
              "  202  21.038     145   3.046330\n",
              "  242  20.918     128   3.040610\n",
              "  333  21.011     261   3.045046\n",
              "  375  20.974     413   3.043284, 'left': {'df':      Income  Rating  LogSalary\n",
              "   77   20.936     253    3.04147\n",
              "   242  20.918     128    3.04061,\n",
              "   'left': None,\n",
              "   'right': None,\n",
              "   'rss': 3.699142991911473e-07,\n",
              "   'y': 'LogSalary',\n",
              "   'yhat': 3.041040098779961}, 'right': {'df':      Income  Rating  LogSalary\n",
              "   6    20.996     259   3.044332\n",
              "   202  21.038     145   3.046330\n",
              "   333  21.011     261   3.045046\n",
              "   375  20.974     413   3.043284,\n",
              "   'left': None,\n",
              "   'right': None,\n",
              "   'rss': 4.910268685068679e-06,\n",
              "   'y': 'LogSalary',\n",
              "   'yhat': 3.044747988806565}, 'rss': 2.3611447583452175e-05, 's': 20.955, 'x_j': 'Income', 'y': 'LogSalary', 'yhat': 3.043512025464364})"
            ]
          },
          "metadata": {
            "tags": []
          },
          "execution_count": 27
        }
      ]
    },
    {
      "cell_type": "code",
      "metadata": {
        "id": "nbftprefhZPP",
        "colab_type": "code",
        "outputId": "112ce941-fc01-4d43-9dc6-ff5bb996aceb",
        "colab": {
          "base_uri": "https://localhost:8080/",
          "height": 1933
        }
      },
      "source": [
        "from copy import deepcopy\n",
        "\n",
        "def _prune_tree(tree, alpha):\n",
        "    working_tree = deepcopy(tree)\n",
        "    rss = _tree_rss(working_tree)\n",
        "    num_leafs = _count_leafs(working_tree)\n",
        "    min_cc = rss + alpha*num_leafs\n",
        "    min_cc_tree = deepcopy(tree)\n",
        "    while not _is_leaf(working_tree):\n",
        "      deltarss, tree_to_remove = _find_min_deltarss(working_tree)\n",
        "      tree_to_remove['left'] = None\n",
        "      tree_to_remove['right'] = None\n",
        "      rss = rss + deltarss\n",
        "      num_leafs -= 1\n",
        "      cost_complexity = rss + alpha*num_leafs\n",
        "      if cost_complexity < min_cc:\n",
        "        min_cc = cost_complexity\n",
        "        min_cc_tree = deepcopy(working_tree)\n",
        "      print(rss, cost_complexity)\n",
        "    \n",
        "    return min_cc_tree\n",
        "\n",
        "pruned_tree = _prune_tree(hitters_tree, 1)"
      ],
      "execution_count": 0,
      "outputs": [
        {
          "output_type": "stream",
          "text": [
            "0.015626341437331607 115.01562634143733\n",
            "0.015647284120503976 114.0156472841205\n",
            "0.015680947841059303 113.01568094784106\n",
            "0.015731235141892067 112.01573123514189\n",
            "0.015800537637456213 111.01580053763746\n",
            "0.01589356843550291 110.0158935684355\n",
            "0.015995473980238716 109.01599547398024\n",
            "0.016109334879355477 108.01610933487936\n",
            "0.016224908029745508 107.01622490802974\n",
            "0.01636628908071444 106.01636628908071\n",
            "0.01651435927971669 105.01651435927971\n",
            "0.01667441693647847 104.01667441693648\n",
            "0.016855785437551497 103.01685578543756\n",
            "0.017038420726081582 102.01703842072608\n",
            "0.01722563640618462 101.01722563640618\n",
            "0.017433489518901397 100.01743348951891\n",
            "0.017651485756426027 99.01765148575643\n",
            "0.017871797108608867 98.01787179710861\n",
            "0.018112802858771742 97.01811280285877\n",
            "0.018361867049819756 96.01836186704982\n",
            "0.018619187957669675 95.01861918795767\n",
            "0.018914081998310867 94.0189140819983\n",
            "0.01923862308685087 93.01923862308685\n",
            "0.019641737336496094 92.0196417373365\n",
            "0.02005822336970918 91.02005822336972\n",
            "0.020486964249498234 90.0204869642495\n",
            "0.020922199866509682 89.0209221998665\n",
            "0.021359968182440507 88.02135996818244\n",
            "0.021799061979989872 87.02179906197999\n",
            "0.022257866513649444 86.02225786651366\n",
            "0.022752627170598665 85.0227526271706\n",
            "0.023279795118385405 84.02327979511838\n",
            "0.02381464823541018 83.02381464823542\n",
            "0.02435979003675213 82.02435979003675\n",
            "0.024993048578559694 81.02499304857857\n",
            "0.025679708649510805 80.0256797086495\n",
            "0.02636665490632037 79.02636665490633\n",
            "0.027086826542313702 78.02708682654232\n",
            "0.027847015708577307 77.02784701570857\n",
            "0.028610394299489354 76.02861039429949\n",
            "0.02949664641005287 75.02949664641005\n",
            "0.030384743403850938 74.03038474340386\n",
            "0.03129062454478741 73.03129062454478\n",
            "0.032238101463123225 72.03223810146312\n",
            "0.03326126127662088 71.03326126127662\n",
            "0.034308803341123295 70.03430880334112\n",
            "0.035448173130342216 69.03544817313035\n",
            "0.03661630363281481 68.03661630363281\n",
            "0.03779999091468763 67.03779999091469\n",
            "0.03902137829621664 66.03902137829621\n",
            "0.040288387012229254 65.04028838701223\n",
            "0.04158104955331274 64.04158104955332\n",
            "0.04295974651725226 63.042959746517255\n",
            "0.04435852766510807 62.04435852766511\n",
            "0.04577620838823965 61.04577620838824\n",
            "0.04752912522468965 60.04752912522469\n",
            "0.04928987500696359 59.04928987500696\n",
            "0.05122182882458737 58.05122182882459\n",
            "0.053444244575934406 57.053444244575935\n",
            "0.05601534403860633 56.056015344038606\n",
            "0.0589043941088554 55.05890439410886\n",
            "0.061932985643995554 54.061932985644\n",
            "0.06509704485335487 53.06509704485335\n",
            "0.06830827299930053 52.0683082729993\n",
            "0.07192849056241188 51.071928490562414\n",
            "0.0755795836036431 50.07557958360364\n",
            "0.0793498203931905 49.07934982039319\n",
            "0.08318310599916444 48.08318310599916\n",
            "0.08710691940274204 47.08710691940274\n",
            "0.09163051054015829 46.091630510540156\n",
            "0.09625178933048238 45.09625178933048\n",
            "0.1008840068424137 44.10088400684241\n",
            "0.10611821082757707 43.106118210827574\n",
            "0.11244529272503483 42.112445292725035\n",
            "0.11911665388741631 41.11911665388742\n",
            "0.12662525358394108 40.12662525358394\n",
            "0.1341555644242724 39.13415556442427\n",
            "0.1422635947082432 38.14226359470824\n",
            "0.152367457899089 37.15236745789909\n",
            "0.16310806225893057 36.16310806225893\n",
            "0.1741549921092514 35.17415499210925\n",
            "0.18523480561466 34.18523480561466\n",
            "0.19778888004234227 33.197788880042346\n",
            "0.21098041913995025 32.21098041913995\n",
            "0.22700734907996012 31.227007349079962\n",
            "0.24638575795623538 30.246385757956237\n",
            "0.26643680675367304 29.266436806753674\n",
            "0.2922248253304747 28.292224825330475\n",
            "0.3305963115444214 27.330596311544422\n",
            "0.3697734846042557 26.369773484604256\n",
            "0.4092558483771783 25.409255848377178\n",
            "0.44956817862471854 24.44956817862472\n",
            "0.4898893339095384 23.489889333909538\n",
            "0.5374846332996461 22.537484633299645\n",
            "0.5899465030340806 21.58994650303408\n",
            "0.6502092758199847 20.650209275819986\n",
            "0.7105607146601395 19.71056071466014\n",
            "0.7962384021268818 18.796238402126882\n",
            "0.8940703301963133 17.894070330196314\n",
            "1.007657608736867 17.007657608736867\n",
            "1.2970285091601064 16.297028509160107\n",
            "1.6137034159406933 15.613703415940693\n",
            "1.942086398267198 14.942086398267199\n",
            "2.3085699482199984 14.308569948219999\n",
            "2.6999354962592683 13.699935496259268\n",
            "3.1744151427094165 13.174415142709417\n",
            "3.713159315860132 12.713159315860132\n",
            "4.341753052143051 12.341753052143051\n",
            "6.668202897657558 13.668202897657558\n",
            "9.540553652312758 15.540553652312758\n",
            "12.450869032183181 17.45086903218318\n",
            "15.846177086448712 19.846177086448712\n",
            "37.56185637315667 40.56185637315667\n",
            "60.674240539295894 62.674240539295894\n",
            "190.7647301991068 191.7647301991068\n"
          ],
          "name": "stdout"
        }
      ]
    },
    {
      "cell_type": "code",
      "metadata": {
        "id": "spyf9M9ghZMt",
        "colab_type": "code",
        "colab": {}
      },
      "source": [
        "import graphviz\n",
        "from IPython import display\n",
        "\n",
        "def make_node(g, name, tree):\n",
        "    attributes = {'label': 'rss: {:0.2f}'.format(tree['rss']),\n",
        "                  'shape': 'square'}\n",
        "    if tree.get('y_hat'):\n",
        "        attributes['label'] += '\\n y_hat: {:0.2f}'.format(tree['y_hat'])\n",
        "    g.node(name, **attributes)\n",
        "    \n",
        "def make_edge(g, parent, child, tree, direction):\n",
        "    attributes = {}\n",
        "    if direction == 'l':\n",
        "        attributes['label'] = '{} < {}'.format(tree['x_j'], tree['s'])\n",
        "    if direction == 'r':\n",
        "        attributes['label'] = '{} >= {}'.format(tree['x_j'], tree['s'])\n",
        "    g.edge(parent, child, **attributes)\n",
        "    \n",
        "\n",
        "def construct_tree(g, dna, tree):\n",
        "    if not tree['left'] and not tree['right']:\n",
        "        make_node(g, dna, tree)\n",
        "    else:\n",
        "        make_node(g, dna + 'l', tree['left'])\n",
        "        make_edge(g, dna, dna + 'l', tree, 'l')\n",
        "        construct_tree(g, dna + 'l', tree['left'])\n",
        "\n",
        "        make_node(g, dna + 'r', tree['right'])\n",
        "        make_edge(g, dna, dna + 'r', tree, 'r')\n",
        "        construct_tree(g, dna + 'r', tree['right'])\n",
        "        \n",
        "def visualize_tree(tree):\n",
        "    g = graphviz.Graph('tree', 'tree.dot', engine='dot')\n",
        "    make_node(g, 'r', tree)\n",
        "    construct_tree(g, 'r', tree)\n",
        "    display.display(g)"
      ],
      "execution_count": 0,
      "outputs": []
    },
    {
      "cell_type": "code",
      "metadata": {
        "id": "kEw4O6qehZKT",
        "colab_type": "code",
        "outputId": "c81818a4-3577-472f-812f-e1fb0a038648",
        "colab": {
          "base_uri": "https://localhost:8080/",
          "height": 632
        }
      },
      "source": [
        "visualize_tree(pruned_tree)"
      ],
      "execution_count": 0,
      "outputs": [
        {
          "output_type": "display_data",
          "data": {
            "text/plain": [
              "<graphviz.dot.Graph at 0x7f9176a0d0f0>"
            ],
            "image/svg+xml": "<?xml version=\"1.0\" encoding=\"UTF-8\" standalone=\"no\"?>\n<!DOCTYPE svg PUBLIC \"-//W3C//DTD SVG 1.1//EN\"\n \"http://www.w3.org/Graphics/SVG/1.1/DTD/svg11.dtd\">\n<!-- Generated by graphviz version 2.40.1 (20161225.0304)\n -->\n<!-- Title: tree Pages: 1 -->\n<svg width=\"1550pt\" height=\"444pt\"\n viewBox=\"0.00 0.00 1549.50 444.00\" xmlns=\"http://www.w3.org/2000/svg\" xmlns:xlink=\"http://www.w3.org/1999/xlink\">\n<g id=\"graph0\" class=\"graph\" transform=\"scale(1 1) rotate(0) translate(4 440)\">\n<title>tree</title>\n<polygon fill=\"#ffffff\" stroke=\"transparent\" points=\"-4,4 -4,-440 1545.5,-440 1545.5,4 -4,4\"/>\n<!-- r -->\n<g id=\"node1\" class=\"node\">\n<title>r</title>\n<polygon fill=\"none\" stroke=\"#000000\" points=\"799.5,-436 719.5,-436 719.5,-356 799.5,-356 799.5,-436\"/>\n<text text-anchor=\"middle\" x=\"759.5\" y=\"-392.3\" font-family=\"Times,serif\" font-size=\"14.00\" fill=\"#000000\">rss: 190.76</text>\n</g>\n<!-- rl -->\n<g id=\"node2\" class=\"node\">\n<title>rl</title>\n<polygon fill=\"none\" stroke=\"#000000\" points=\"572,-305 499,-305 499,-232 572,-232 572,-305\"/>\n<text text-anchor=\"middle\" x=\"535.5\" y=\"-264.8\" font-family=\"Times,serif\" font-size=\"14.00\" fill=\"#000000\">rss: 31.13</text>\n</g>\n<!-- r&#45;&#45;rl -->\n<g id=\"edge1\" class=\"edge\">\n<title>r&#45;&#45;rl</title>\n<path fill=\"none\" stroke=\"#000000\" d=\"M719.4533,-373.2056C677.6742,-349.4251 612.7303,-312.4592 572.2304,-289.4068\"/>\n<text text-anchor=\"middle\" x=\"708.5\" y=\"-326.8\" font-family=\"Times,serif\" font-size=\"14.00\" fill=\"#000000\">Income &lt; 38.4815</text>\n</g>\n<!-- rr -->\n<g id=\"node9\" class=\"node\">\n<title>rr</title>\n<polygon fill=\"none\" stroke=\"#000000\" points=\"862,-305 789,-305 789,-232 862,-232 862,-305\"/>\n<text text-anchor=\"middle\" x=\"825.5\" y=\"-264.8\" font-family=\"Times,serif\" font-size=\"14.00\" fill=\"#000000\">rss: 29.55</text>\n</g>\n<!-- r&#45;&#45;rr -->\n<g id=\"edge8\" class=\"edge\">\n<title>r&#45;&#45;rr</title>\n<path fill=\"none\" stroke=\"#000000\" d=\"M792.5908,-355.9741C796.5897,-350.1454 800.3617,-344.0608 803.5,-338 808.7956,-327.7727 813.1063,-316.0345 816.4631,-305.1518\"/>\n<text text-anchor=\"middle\" x=\"867.5\" y=\"-326.8\" font-family=\"Times,serif\" font-size=\"14.00\" fill=\"#000000\">Income &gt;= 38.4815</text>\n</g>\n<!-- rll -->\n<g id=\"node3\" class=\"node\">\n<title>rll</title>\n<polygon fill=\"none\" stroke=\"#000000\" points=\"278,-181 213,-181 213,-116 278,-116 278,-181\"/>\n<text text-anchor=\"middle\" x=\"245.5\" y=\"-144.8\" font-family=\"Times,serif\" font-size=\"14.00\" fill=\"#000000\">rss: 4.02</text>\n</g>\n<!-- rl&#45;&#45;rll -->\n<g id=\"edge2\" class=\"edge\">\n<title>rl&#45;&#45;rll</title>\n<path fill=\"none\" stroke=\"#000000\" d=\"M498.7713,-253.3019C441.7692,-229.7148 332.9019,-184.6663 278.3567,-162.0959\"/>\n<text text-anchor=\"middle\" x=\"449.5\" y=\"-202.8\" font-family=\"Times,serif\" font-size=\"14.00\" fill=\"#000000\">Income &lt; 20.598</text>\n</g>\n<!-- rlr -->\n<g id=\"node6\" class=\"node\">\n<title>rlr</title>\n<polygon fill=\"none\" stroke=\"#000000\" points=\"568,-181 503,-181 503,-116 568,-116 568,-181\"/>\n<text text-anchor=\"middle\" x=\"535.5\" y=\"-144.8\" font-family=\"Times,serif\" font-size=\"14.00\" fill=\"#000000\">rss: 4.00</text>\n</g>\n<!-- rl&#45;&#45;rlr -->\n<g id=\"edge5\" class=\"edge\">\n<title>rl&#45;&#45;rlr</title>\n<path fill=\"none\" stroke=\"#000000\" d=\"M535.5,-231.844C535.5,-215.7155 535.5,-196.9207 535.5,-181.2657\"/>\n<text text-anchor=\"middle\" x=\"590\" y=\"-202.8\" font-family=\"Times,serif\" font-size=\"14.00\" fill=\"#000000\">Income &gt;= 20.598</text>\n</g>\n<!-- rlll -->\n<g id=\"node4\" class=\"node\">\n<title>rlll</title>\n<polygon fill=\"none\" stroke=\"#000000\" points=\"65,-65 0,-65 0,0 65,0 65,-65\"/>\n<text text-anchor=\"middle\" x=\"32.5\" y=\"-28.8\" font-family=\"Times,serif\" font-size=\"14.00\" fill=\"#000000\">rss: 0.44</text>\n</g>\n<!-- rll&#45;&#45;rlll -->\n<g id=\"edge3\" class=\"edge\">\n<title>rll&#45;&#45;rlll</title>\n<path fill=\"none\" stroke=\"#000000\" d=\"M212.7403,-143.9393C163.6528,-136.4688 74.327,-120.2039 51.5,-98 42.6731,-89.4141 37.8823,-76.9941 35.3051,-65.2723\"/>\n<text text-anchor=\"middle\" x=\"146.5\" y=\"-86.8\" font-family=\"Times,serif\" font-size=\"14.00\" fill=\"#000000\">Income &lt; 14.395500000000002</text>\n</g>\n<!-- rllr -->\n<g id=\"node5\" class=\"node\">\n<title>rllr</title>\n<polygon fill=\"none\" stroke=\"#000000\" points=\"278,-65 213,-65 213,0 278,0 278,-65\"/>\n<text text-anchor=\"middle\" x=\"245.5\" y=\"-28.8\" font-family=\"Times,serif\" font-size=\"14.00\" fill=\"#000000\">rss: 0.66</text>\n</g>\n<!-- rll&#45;&#45;rllr -->\n<g id=\"edge4\" class=\"edge\">\n<title>rll&#45;&#45;rllr</title>\n<path fill=\"none\" stroke=\"#000000\" d=\"M245.5,-115.8788C245.5,-100.0641 245.5,-81.1136 245.5,-65.2782\"/>\n<text text-anchor=\"middle\" x=\"345\" y=\"-86.8\" font-family=\"Times,serif\" font-size=\"14.00\" fill=\"#000000\">Income &gt;= 14.395500000000002</text>\n</g>\n<!-- rlrl -->\n<g id=\"node7\" class=\"node\">\n<title>rlrl</title>\n<polygon fill=\"none\" stroke=\"#000000\" points=\"500,-65 435,-65 435,0 500,0 500,-65\"/>\n<text text-anchor=\"middle\" x=\"467.5\" y=\"-28.8\" font-family=\"Times,serif\" font-size=\"14.00\" fill=\"#000000\">rss: 0.64</text>\n</g>\n<!-- rlr&#45;&#45;rlrl -->\n<g id=\"edge6\" class=\"edge\">\n<title>rlr&#45;&#45;rlrl</title>\n<path fill=\"none\" stroke=\"#000000\" d=\"M502.9822,-134.1255C488.4075,-125.8313 472.6833,-113.8627 464.5,-98 459.3854,-88.0858 458.6263,-76.1634 459.6375,-65.2232\"/>\n<text text-anchor=\"middle\" x=\"514.5\" y=\"-86.8\" font-family=\"Times,serif\" font-size=\"14.00\" fill=\"#000000\">Income &lt; 28.395</text>\n</g>\n<!-- rlrr -->\n<g id=\"node8\" class=\"node\">\n<title>rlrr</title>\n<polygon fill=\"none\" stroke=\"#000000\" points=\"623,-65 558,-65 558,0 623,0 623,-65\"/>\n<text text-anchor=\"middle\" x=\"590.5\" y=\"-28.8\" font-family=\"Times,serif\" font-size=\"14.00\" fill=\"#000000\">rss: 0.49</text>\n</g>\n<!-- rlr&#45;&#45;rlrr -->\n<g id=\"edge7\" class=\"edge\">\n<title>rlr&#45;&#45;rlrr</title>\n<path fill=\"none\" stroke=\"#000000\" d=\"M558.5799,-115.7936C562.1613,-110.0106 565.6216,-103.9372 568.5,-98 573.5238,-87.6376 577.8735,-75.8361 581.3482,-65.132\"/>\n<text text-anchor=\"middle\" x=\"630\" y=\"-86.8\" font-family=\"Times,serif\" font-size=\"14.00\" fill=\"#000000\">Income &gt;= 28.395</text>\n</g>\n<!-- rrl -->\n<g id=\"node10\" class=\"node\">\n<title>rrl</title>\n<polygon fill=\"none\" stroke=\"#000000\" points=\"858,-181 793,-181 793,-116 858,-116 858,-181\"/>\n<text text-anchor=\"middle\" x=\"825.5\" y=\"-144.8\" font-family=\"Times,serif\" font-size=\"14.00\" fill=\"#000000\">rss: 4.62</text>\n</g>\n<!-- rr&#45;&#45;rrl -->\n<g id=\"edge9\" class=\"edge\">\n<title>rr&#45;&#45;rrl</title>\n<path fill=\"none\" stroke=\"#000000\" d=\"M825.5,-231.844C825.5,-215.7155 825.5,-196.9207 825.5,-181.2657\"/>\n<text text-anchor=\"middle\" x=\"872\" y=\"-202.8\" font-family=\"Times,serif\" font-size=\"14.00\" fill=\"#000000\">Income &lt; 78.78</text>\n</g>\n<!-- rrr -->\n<g id=\"node13\" class=\"node\">\n<title>rrr</title>\n<polygon fill=\"none\" stroke=\"#000000\" points=\"1175,-181 1110,-181 1110,-116 1175,-116 1175,-181\"/>\n<text text-anchor=\"middle\" x=\"1142.5\" y=\"-144.8\" font-family=\"Times,serif\" font-size=\"14.00\" fill=\"#000000\">rss: 3.21</text>\n</g>\n<!-- rr&#45;&#45;rrr -->\n<g id=\"edge12\" class=\"edge\">\n<title>rr&#45;&#45;rrr</title>\n<path fill=\"none\" stroke=\"#000000\" d=\"M862.1736,-254.6172C924.5938,-230.9882 1050.4909,-183.3299 1109.9688,-160.8146\"/>\n<text text-anchor=\"middle\" x=\"1053\" y=\"-202.8\" font-family=\"Times,serif\" font-size=\"14.00\" fill=\"#000000\">Income &gt;= 78.78</text>\n</g>\n<!-- rrll -->\n<g id=\"node11\" class=\"node\">\n<title>rrll</title>\n<polygon fill=\"none\" stroke=\"#000000\" points=\"755,-65 690,-65 690,0 755,0 755,-65\"/>\n<text text-anchor=\"middle\" x=\"722.5\" y=\"-28.8\" font-family=\"Times,serif\" font-size=\"14.00\" fill=\"#000000\">rss: 0.39</text>\n</g>\n<!-- rrl&#45;&#45;rrll -->\n<g id=\"edge10\" class=\"edge\">\n<title>rrl&#45;&#45;rrll</title>\n<path fill=\"none\" stroke=\"#000000\" d=\"M792.7356,-141.7754C769.0654,-135.0309 738.6909,-122.0599 723.5,-98 717.4284,-88.3835 715.9476,-76.2854 716.3976,-65.1118\"/>\n<text text-anchor=\"middle\" x=\"815\" y=\"-86.8\" font-family=\"Times,serif\" font-size=\"14.00\" fill=\"#000000\">Income &lt; 52.69799999999999</text>\n</g>\n<!-- rrlr -->\n<g id=\"node12\" class=\"node\">\n<title>rrlr</title>\n<polygon fill=\"none\" stroke=\"#000000\" points=\"961,-65 896,-65 896,0 961,0 961,-65\"/>\n<text text-anchor=\"middle\" x=\"928.5\" y=\"-28.8\" font-family=\"Times,serif\" font-size=\"14.00\" fill=\"#000000\">rss: 0.83</text>\n</g>\n<!-- rrl&#45;&#45;rrlr -->\n<g id=\"edge11\" class=\"edge\">\n<title>rrl&#45;&#45;rrlr</title>\n<path fill=\"none\" stroke=\"#000000\" d=\"M858.1396,-134.7218C874.6711,-126.2762 893.8635,-113.9935 906.5,-98 914.0111,-88.4934 919.0199,-76.2927 922.3317,-65.0035\"/>\n<text text-anchor=\"middle\" x=\"1010\" y=\"-86.8\" font-family=\"Times,serif\" font-size=\"14.00\" fill=\"#000000\">Income &gt;= 52.69799999999999</text>\n</g>\n<!-- rrrl -->\n<g id=\"node14\" class=\"node\">\n<title>rrrl</title>\n<polygon fill=\"none\" stroke=\"#000000\" points=\"1175,-65 1110,-65 1110,0 1175,0 1175,-65\"/>\n<text text-anchor=\"middle\" x=\"1142.5\" y=\"-28.8\" font-family=\"Times,serif\" font-size=\"14.00\" fill=\"#000000\">rss: 0.45</text>\n</g>\n<!-- rrr&#45;&#45;rrrl -->\n<g id=\"edge13\" class=\"edge\">\n<title>rrr&#45;&#45;rrrl</title>\n<path fill=\"none\" stroke=\"#000000\" d=\"M1142.5,-115.8788C1142.5,-100.0641 1142.5,-81.1136 1142.5,-65.2782\"/>\n<text text-anchor=\"middle\" x=\"1237.5\" y=\"-86.8\" font-family=\"Times,serif\" font-size=\"14.00\" fill=\"#000000\">Income &lt; 118.61449999999999</text>\n</g>\n<!-- rrrr -->\n<g id=\"node15\" class=\"node\">\n<title>rrrr</title>\n<polygon fill=\"none\" stroke=\"#000000\" points=\"1388,-65 1323,-65 1323,0 1388,0 1388,-65\"/>\n<text text-anchor=\"middle\" x=\"1355.5\" y=\"-28.8\" font-family=\"Times,serif\" font-size=\"14.00\" fill=\"#000000\">rss: 0.44</text>\n</g>\n<!-- rrr&#45;&#45;rrrr -->\n<g id=\"edge14\" class=\"edge\">\n<title>rrr&#45;&#45;rrrr</title>\n<path fill=\"none\" stroke=\"#000000\" d=\"M1175.0433,-143.6925C1223.3136,-135.9495 1310.6556,-119.3939 1333.5,-98 1342.606,-89.4722 1347.9442,-77.0632 1351.0732,-65.3339\"/>\n<text text-anchor=\"middle\" x=\"1442.5\" y=\"-86.8\" font-family=\"Times,serif\" font-size=\"14.00\" fill=\"#000000\">Income &gt;= 118.61449999999999</text>\n</g>\n</g>\n</svg>\n"
          },
          "metadata": {
            "tags": []
          }
        }
      ]
    }
  ]
}